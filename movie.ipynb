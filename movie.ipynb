{
 "cells": [
  {
   "cell_type": "code",
   "execution_count": 42,
   "metadata": {},
   "outputs": [],
   "source": [
    "import numpy as np\n",
    "import pandas as pd\n",
    "import operator"
   ]
  },
  {
   "cell_type": "markdown",
   "metadata": {},
   "source": [
    "# 导入数据"
   ]
  },
  {
   "cell_type": "code",
   "execution_count": 4,
   "metadata": {},
   "outputs": [
    {
     "data": {
      "text/html": [
       "<div>\n",
       "<style>\n",
       "    .dataframe thead tr:only-child th {\n",
       "        text-align: right;\n",
       "    }\n",
       "\n",
       "    .dataframe thead th {\n",
       "        text-align: left;\n",
       "    }\n",
       "\n",
       "    .dataframe tbody tr th {\n",
       "        vertical-align: top;\n",
       "    }\n",
       "</style>\n",
       "<table border=\"1\" class=\"dataframe\">\n",
       "  <thead>\n",
       "    <tr style=\"text-align: right;\">\n",
       "      <th></th>\n",
       "      <th>电影名称</th>\n",
       "      <th>打斗次数</th>\n",
       "      <th>接吻次数</th>\n",
       "      <th>电影类型</th>\n",
       "    </tr>\n",
       "  </thead>\n",
       "  <tbody>\n",
       "    <tr>\n",
       "      <th>0</th>\n",
       "      <td>California Man</td>\n",
       "      <td>3</td>\n",
       "      <td>104</td>\n",
       "      <td>Romenance</td>\n",
       "    </tr>\n",
       "    <tr>\n",
       "      <th>1</th>\n",
       "      <td>He's Not Really  into Dudes</td>\n",
       "      <td>2</td>\n",
       "      <td>100</td>\n",
       "      <td>Romenance</td>\n",
       "    </tr>\n",
       "    <tr>\n",
       "      <th>2</th>\n",
       "      <td>Beautiful Women</td>\n",
       "      <td>1</td>\n",
       "      <td>81</td>\n",
       "      <td>Romenance</td>\n",
       "    </tr>\n",
       "    <tr>\n",
       "      <th>3</th>\n",
       "      <td>Kwvin Longblade</td>\n",
       "      <td>101</td>\n",
       "      <td>10</td>\n",
       "      <td>Action</td>\n",
       "    </tr>\n",
       "    <tr>\n",
       "      <th>4</th>\n",
       "      <td>Robo Slayer 3000</td>\n",
       "      <td>99</td>\n",
       "      <td>5</td>\n",
       "      <td>Action</td>\n",
       "    </tr>\n",
       "    <tr>\n",
       "      <th>5</th>\n",
       "      <td>Amped II?</td>\n",
       "      <td>98</td>\n",
       "      <td>2</td>\n",
       "      <td>Action</td>\n",
       "    </tr>\n",
       "  </tbody>\n",
       "</table>\n",
       "</div>"
      ],
      "text/plain": [
       "                          电影名称  打斗次数  接吻次数       电影类型\n",
       "0               California Man     3   104  Romenance\n",
       "1  He's Not Really  into Dudes     2   100  Romenance\n",
       "2              Beautiful Women     1    81  Romenance\n",
       "3              Kwvin Longblade   101    10     Action\n",
       "4             Robo Slayer 3000    99     5     Action\n",
       "5                    Amped II?    98     2     Action"
      ]
     },
     "execution_count": 4,
     "metadata": {},
     "output_type": "execute_result"
    }
   ],
   "source": [
    "import numpy as np\n",
    "import pandas as pd\n",
    "df=pd.read_csv(\"movie.csv\", encoding='gbk')\n",
    "df"
   ]
  },
  {
   "cell_type": "markdown",
   "metadata": {},
   "source": [
    "# 将文本数据整理成算法需要的数据形式"
   ]
  },
  {
   "cell_type": "code",
   "execution_count": 10,
   "metadata": {},
   "outputs": [
    {
     "name": "stdout",
     "output_type": "stream",
     "text": [
      "[[  3 104]\n",
      " [  2 100]\n",
      " [  1  81]\n",
      " [101  10]\n",
      " [ 99   5]\n",
      " [ 98   2]]\n",
      "0    Romenance\n",
      "1    Romenance\n",
      "2    Romenance\n",
      "3       Action\n",
      "4       Action\n",
      "5       Action\n",
      "Name: 电影类型, dtype: object\n"
     ]
    }
   ],
   "source": [
    "df1=df.drop('电影类型',axis=1)#将电影类型这一列暂且删掉\n",
    "dateset=df1.as_matrix() #将pandas数据转换成矩阵并传递给训练集\n",
    "labels=df[\"电影类型\"]#将电影类型传递给labels（即标签）\n",
    "print(dateset)\n",
    "print(labels)"
   ]
  },
  {
   "cell_type": "markdown",
   "metadata": {},
   "source": [
    "# 数据分析—可视化"
   ]
  },
  {
   "cell_type": "code",
   "execution_count": 39,
   "metadata": {},
   "outputs": [
    {
     "data": {
      "image/png": "[encoded data removed]",
      "text/plain": [
       "<matplotlib.figure.Figure at 0x296c0e309e8>"
      ]
     },
     "metadata": {},
     "output_type": "display_data"
    }
   ],
   "source": [
    "import matplotlib.font_manager as fm\n",
    "myfont = fm.FontProperties(fname='C:/Windows/Fonts/msyh.ttc')\n",
    "\n",
    "import matplotlib.pyplot as plt\n",
    "\n",
    "#将romance和action数据分开来，是为了作图的时候可以给予不同的颜色显示\n",
    "Romenance_x = [dateset[ii][0] for ii in range(0, len(dateset)) if labels[ii]==\"Romenance\"]\n",
    "Romenance_y = [dateset[ii][1] for ii in range(0, len(dateset)) if labels[ii]==\"Romenance\"]\n",
    "Action_x = [dateset[ii][0] for ii in range(0, len(dateset)) if labels[ii]==\"Action\"]\n",
    "Action_y = [dateset[ii][1] for ii in range(0, len(dateset)) if labels[ii]==\"Action\"]\n",
    "\n",
    "plt.scatter(Romenance_x,Romenance_y, color = \"b\", label=\"Romenance\")\n",
    "plt.scatter(Action_x,Action_y, color = \"r\", label=\"Action\")\n",
    "plt.legend()\n",
    "plt.xlabel(\"打斗次数\",fontproperties=myfont)\n",
    "plt.ylabel(\"接吻次数\",fontproperties=myfont)\n",
    "plt.show()"
   ]
  },
  {
   "cell_type": "markdown",
   "metadata": {},
   "source": [
    "# 测试算法"
   ]
  },
  {
   "cell_type": "code",
   "execution_count": 66,
   "metadata": {},
   "outputs": [
    {
     "data": {
      "text/plain": [
       "'Romenance'"
      ]
     },
     "execution_count": 66,
     "metadata": {},
     "output_type": "execute_result"
    }
   ],
   "source": [
    "inX = [18,90]#给定待预测的值\n",
    "datesize=df1.shape[0]#算出df1的列数\n",
    "#欧式距离的求取\n",
    "diffMat = np.tile(inX, (datesize, 1))-dateset#将待预测值与已有的数据做差\n",
    "sqDiffMat = diffMat ** 2\n",
    "sqDistance = sqDiffMat.sum(axis=1)#对数组中的元素按行进行相加\n",
    "distance = sqDistance ** 0.5\n",
    "sortedDistIndicies = distance.argsort()#argsort函数返回的是数组值从小到大的索引值\n",
    "classCount = {}#存放最终的分类结果\n",
    "for i in range(3):#这里的3就是k值\n",
    "    voteIlabel = labels[sortedDistIndicies[i]]#是第i个最相近的数据对应的分类\n",
    "    classCount[voteIlabel] = classCount.get(voteIlabel, 0) + 1\n",
    "#把分类结果进行排序，然后返回得票数最多的分类结果\n",
    "sortedClassCount = sorted(classCount.items(), key=operator.itemgetter(1), reverse=True)\n",
    "sortedClassCount[0][0]"
   ]
  }
 ],
 "metadata": {
  "kernelspec": {
   "display_name": "Python 3",
   "language": "python",
   "name": "python3"
  },
  "language_info": {
   "codemirror_mode": {
    "name": "ipython",
    "version": 3
   },
   "file_extension": ".py",
   "mimetype": "text/x-python",
   "name": "python",
   "nbconvert_exporter": "python",
   "pygments_lexer": "ipython3",
   "version": "3.6.1"
  }
 },
 "nbformat": 4,
 "nbformat_minor": 2
}
